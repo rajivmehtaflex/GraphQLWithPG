{
  "nbformat": 4,
  "nbformat_minor": 0,
  "metadata": {
    "colab": {
      "name": "Lesson-2-Self-Training.ipynb",
      "version": "0.3.2",
      "provenance": [],
      "include_colab_link": true
    },
    "kernelspec": {
      "name": "python3",
      "display_name": "Python 3"
    },
    "accelerator": "GPU"
  },
  "cells": [
    {
      "cell_type": "markdown",
      "metadata": {
        "id": "view-in-github",
        "colab_type": "text"
      },
      "source": [
        "<a href=\"https://colab.research.google.com/github/rajivmehtaflex/GraphQLWithPG/blob/master/Lesson_2_Self_Training.ipynb\" target=\"_parent\"><img src=\"https://colab.research.google.com/assets/colab-badge.svg\" alt=\"Open In Colab\"/></a>"
      ]
    },
    {
      "cell_type": "markdown",
      "metadata": {
        "id": "XXPQukpCK-K9",
        "colab_type": "text"
      },
      "source": [
        "# System Settings"
      ]
    },
    {
      "cell_type": "markdown",
      "metadata": {
        "id": "Mx3CEaILLVsH",
        "colab_type": "text"
      },
      "source": [
        "### Connect with Google Drive"
      ]
    },
    {
      "cell_type": "code",
      "metadata": {
        "id": "2GwVzTmILjJN",
        "colab_type": "code",
        "colab": {}
      },
      "source": [
        "# Run this cell to mount your Google Drive.\n",
        "from google.colab import drive\n",
        "drive.mount('/content/drive')"
      ],
      "execution_count": 0,
      "outputs": []
    },
    {
      "cell_type": "markdown",
      "metadata": {
        "id": "FP5FUvGOL7EK",
        "colab_type": "text"
      },
      "source": [
        "### Add Library for Fastai"
      ]
    },
    {
      "cell_type": "code",
      "metadata": {
        "id": "K0dZQNxaLz99",
        "colab_type": "code",
        "colab": {}
      },
      "source": [
        "from fastai.vision import *"
      ],
      "execution_count": 0,
      "outputs": []
    }
  ]
}